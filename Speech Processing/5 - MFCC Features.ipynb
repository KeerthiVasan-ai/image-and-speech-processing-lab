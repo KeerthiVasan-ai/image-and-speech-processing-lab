{
 "cells": [
  {
   "cell_type": "code",
   "execution_count": 1,
   "metadata": {},
   "outputs": [
    {
     "name": "stderr",
     "output_type": "stream",
     "text": [
      "C:\\Users\\GF LAB\\anaconda3\\lib\\site-packages\\paramiko\\transport.py:219: CryptographyDeprecationWarning: Blowfish has been deprecated\n",
      "  \"class\": algorithms.Blowfish,\n"
     ]
    }
   ],
   "source": [
    "import librosa"
   ]
  },
  {
   "cell_type": "code",
   "execution_count": 2,
   "metadata": {},
   "outputs": [
    {
     "name": "stdout",
     "output_type": "stream",
     "text": [
      "[-0.01765634 -0.02798829 -0.00657416 ...  0.06993531  0.07203146\n",
      "  0.06423917]\n"
     ]
    }
   ],
   "source": [
    "y,sr = librosa.load(\"../dataset/auds/speech.wav\")\n",
    "print(y)"
   ]
  },
  {
   "cell_type": "code",
   "execution_count": 3,
   "metadata": {},
   "outputs": [
    {
     "name": "stdout",
     "output_type": "stream",
     "text": [
      "Sample Rate 22050H\n"
     ]
    }
   ],
   "source": [
    "print(\"Sample Rate {0}H\".format(sr))\n"
   ]
  },
  {
   "cell_type": "code",
   "execution_count": 4,
   "metadata": {},
   "outputs": [
    {
     "name": "stdout",
     "output_type": "stream",
     "text": [
      "Audio duration : 6.5Hz\n"
     ]
    }
   ],
   "source": [
    "print(\"Audio duration : {0}Hz\".format(len(y) / sr))"
   ]
  },
  {
   "cell_type": "code",
   "execution_count": 5,
   "metadata": {},
   "outputs": [
    {
     "name": "stdout",
     "output_type": "stream",
     "text": [
      "[[-220.63054    -217.13509    -218.78632    ... -247.09528\n",
      "  -247.41176    -246.0565    ]\n",
      " [  56.89755      60.970848     63.3752     ...   68.48038\n",
      "    67.33115      68.90533   ]\n",
      " [ -32.21618     -30.1287      -24.582806   ...  -21.21524\n",
      "   -25.09154     -20.878067  ]\n",
      " ...\n",
      " [  -7.8223066   -10.978647    -11.528078   ...  -13.1629715\n",
      "   -11.525986     -8.528767  ]\n",
      " [  -1.3137107    -0.39647022    3.5227785  ...    3.0639315\n",
      "     2.5422037     4.469499  ]\n",
      " [ -14.632321    -13.124243     -8.343084   ...   -3.9515138\n",
      "    -6.6021605    -4.176214  ]]\n"
     ]
    }
   ],
   "source": [
    "print(librosa.feature.mfcc(y=y,sr=sr,n_mfcc=13))"
   ]
  },
  {
   "cell_type": "code",
   "execution_count": null,
   "metadata": {},
   "outputs": [],
   "source": []
  }
 ],
 "metadata": {
  "kernelspec": {
   "display_name": "Python 3 (ipykernel)",
   "language": "python",
   "name": "python3"
  },
  "language_info": {
   "codemirror_mode": {
    "name": "ipython",
    "version": 3
   },
   "file_extension": ".py",
   "mimetype": "text/x-python",
   "name": "python",
   "nbconvert_exporter": "python",
   "pygments_lexer": "ipython3",
   "version": "3.9.13"
  },
  "orig_nbformat": 4
 },
 "nbformat": 4,
 "nbformat_minor": 2
}
